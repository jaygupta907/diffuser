{
 "cells": [
  {
   "cell_type": "code",
   "execution_count": 32,
   "metadata": {},
   "outputs": [],
   "source": [
    "import diffuser.utils as utils"
   ]
  },
  {
   "cell_type": "code",
   "execution_count": 33,
   "metadata": {},
   "outputs": [],
   "source": [
    "class Args:\n",
    "  loadpath = 'logs/pretrained/OfflineHalfCheetahVelocity-v1/diffusion/defaults_H32_T20'\n",
    "  diffusion_epoch = 'latest'\n",
    "  n_samples = 4\n",
    "  device = 'cuda:0'\n",
    "    \n",
    "args = Args()"
   ]
  },
  {
   "cell_type": "code",
   "execution_count": null,
   "metadata": {},
   "outputs": [],
   "source": [
    "%cd /home/ae21b026/diffuser"
   ]
  },
  {
   "cell_type": "code",
   "execution_count": null,
   "metadata": {},
   "outputs": [],
   "source": [
    "\n",
    "diffusion_experiment = utils.load_diffusion(\n",
    "    args.loadpath, epoch=args.diffusion_epoch,seed=0)\n",
    "\n",
    "dataset = diffusion_experiment.dataset\n",
    "renderer = diffusion_experiment.renderer\n",
    "model = diffusion_experiment.trainer.ema_model"
   ]
  },
  {
   "cell_type": "code",
   "execution_count": 36,
   "metadata": {},
   "outputs": [],
   "source": [
    "env = dataset.env\n",
    "obs ,info  = env.reset()"
   ]
  },
  {
   "cell_type": "code",
   "execution_count": null,
   "metadata": {},
   "outputs": [],
   "source": [
    "diffusion_chain = utils.colab.run_diffusion(\n",
    "    model, dataset, obs, args.n_samples, args.device\n",
    ")\n",
    "print(diffusion_chain.shape)"
   ]
  },
  {
   "cell_type": "code",
   "execution_count": null,
   "metadata": {},
   "outputs": [],
   "source": [
    "samples = diffusion_chain[-1]\n",
    "utils.colab.show_sample(renderer, samples)"
   ]
  },
  {
   "cell_type": "code",
   "execution_count": null,
   "metadata": {},
   "outputs": [],
   "source": [
    "utils.colab.show_diffusion(renderer, diffusion_chain[:,:1], substep=1)"
   ]
  },
  {
   "cell_type": "code",
   "execution_count": null,
   "metadata": {},
   "outputs": [],
   "source": [
    "horizons = [16, 128, 256, 512, 1024]\n",
    "diffusion_chains = [\n",
    "      utils.colab.run_diffusion(\n",
    "          model, dataset, obs, n_samples=1, device=args.device, horizon=horizon\n",
    "      )\n",
    "      for horizon in horizons\n",
    "]\n",
    "\n",
    "for horizon, diffusion_chain in zip(horizons, diffusion_chains):\n",
    "  print(f'horizon = {horizon} | samples shape = {diffusion_chain.shape}')"
   ]
  },
  {
   "cell_type": "code",
   "execution_count": null,
   "metadata": {},
   "outputs": [],
   "source": [
    "utils.colab.show_samples(renderer, diffusion_chains)"
   ]
  },
  {
   "cell_type": "code",
   "execution_count": null,
   "metadata": {},
   "outputs": [],
   "source": [
    "utils.colab.show_diffusion(renderer, diffusion_chains[-1][:,:1], substep=1)"
   ]
  }
 ],
 "metadata": {
  "kernelspec": {
   "display_name": "safety_diffuser",
   "language": "python",
   "name": "python3"
  },
  "language_info": {
   "codemirror_mode": {
    "name": "ipython",
    "version": 3
   },
   "file_extension": ".py",
   "mimetype": "text/x-python",
   "name": "python",
   "nbconvert_exporter": "python",
   "pygments_lexer": "ipython3",
   "version": "3.8.20"
  }
 },
 "nbformat": 4,
 "nbformat_minor": 2
}
